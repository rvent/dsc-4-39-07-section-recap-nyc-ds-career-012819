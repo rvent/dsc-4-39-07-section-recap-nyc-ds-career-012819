{
 "cells": [
  {
   "cell_type": "markdown",
   "metadata": {},
   "source": [
    "# Section Recap"
   ]
  },
  {
   "cell_type": "markdown",
   "metadata": {},
   "source": [
    "## Introduction\n",
    "\n",
    "This short lesson summarizes key takeaways from section 39"
   ]
  },
  {
   "cell_type": "markdown",
   "metadata": {},
   "source": [
    "## Objectives\n",
    "You will be able to:\n",
    "* Understand and explain what was covered in this section\n",
    "* Understand and explain why this section will help you become a data scientist"
   ]
  },
  {
   "cell_type": "markdown",
   "metadata": {},
   "source": [
    "## Key Takeaways\n",
    "\n",
    "The key takeaways from this section include:\n",
    "\n",
    "* Recommendation approaches can consist of simply recommending popular items (without personalization), or using classification algorithms which takes into account past customer behavior\n",
    "* When using algorithms, the two main types are content-based algorithms (recommending new content based on similar _content_), or collaborative filtering based (recommending new content based on similar types of _users_)\n",
    "* Collaborative Filtering (CF) is currently the most widely used approach to build recommendation systems\n",
    "* The key idea behind CF is that similar users have similar interest and that a user generally likes items that are similar\n",
    "* CF is filling an \"empty cell\" (which is eg an unseen movie on netflix) in the utility matrix based on the similarity between users or item. Matrix Factorization or Decomposition can help us solve this problem.\n",
    "* Matrix Decomposition can be reformulated as an optimization problem with loss functions and constraints\n",
    "* Matrix Decomposition can be done using either Singular Value Decompisition (SVD) or Alternating Least Squares (ALS)\n",
    "* Spark's ALS implementation can be be used to build a scalable and efficient reommendation system"
   ]
  }
 ],
 "metadata": {
  "kernelspec": {
   "display_name": "Python 3",
   "language": "python",
   "name": "python3"
  },
  "language_info": {
   "codemirror_mode": {
    "name": "ipython",
    "version": 3
   },
   "file_extension": ".py",
   "mimetype": "text/x-python",
   "name": "python",
   "nbconvert_exporter": "python",
   "pygments_lexer": "ipython3",
   "version": "3.6.6"
  }
 },
 "nbformat": 4,
 "nbformat_minor": 2
}
